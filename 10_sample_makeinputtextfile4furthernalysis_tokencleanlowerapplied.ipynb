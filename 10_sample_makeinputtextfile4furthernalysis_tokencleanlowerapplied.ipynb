{
  "nbformat": 4,
  "nbformat_minor": 0,
  "metadata": {
    "colab": {
      "provenance": [],
      "include_colab_link": true
    },
    "kernelspec": {
      "name": "python3",
      "display_name": "Python 3"
    },
    "language_info": {
      "name": "python"
    }
  },
  "cells": [
    {
      "cell_type": "markdown",
      "metadata": {
        "id": "view-in-github",
        "colab_type": "text"
      },
      "source": [
        "<a href=\"https://colab.research.google.com/github/dohyun6812/NLP_PictureBook_2025/blob/main/10_sample_makeinputtextfile4furthernalysis_tokencleanlowerapplied.ipynb\" target=\"_parent\"><img src=\"https://colab.research.google.com/assets/colab-badge.svg\" alt=\"Open In Colab\"/></a>"
      ]
    },
    {
      "cell_type": "markdown",
      "source": [
        "#1️⃣ <font color = 'red'> 🐹🐾 **Final Script to prepare input text for further analysis (e.g., Wordcloud, Lexical Diversity, etc.)**\n",
        "\n",
        "  - # <font color = 'blue'> 🐹🐾 **Important & Useful!**\n",
        "  - ### **This script is based on plain text for \"Household Stories by the Brothers Grimm\" under the Repository of \"PictureBook_Archive_inProgress\".**"
      ],
      "metadata": {
        "id": "DlRtfSQYdex6"
      }
    },
    {
      "cell_type": "code",
      "execution_count": null,
      "metadata": {
        "colab": {
          "base_uri": "https://localhost:8080/"
        },
        "id": "GT0LsgO85fCm",
        "outputId": "55181bd2-59d9-4064-9de4-0a572068d311"
      },
      "outputs": [
        {
          "output_type": "stream",
          "name": "stdout",
          "text": [
            "Cloning into 'NLP_PictureBook_2025'...\n",
            "remote: Enumerating objects: 227, done.\u001b[K\n",
            "remote: Counting objects: 100% (106/106), done.\u001b[K\n",
            "remote: Compressing objects: 100% (91/91), done.\u001b[K\n",
            "remote: Total 227 (delta 63), reused 15 (delta 15), pack-reused 121 (from 1)\u001b[K\n",
            "Receiving objects: 100% (227/227), 1.11 MiB | 2.50 MiB/s, done.\n",
            "Resolving deltas: 100% (108/108), done.\n"
          ]
        }
      ],
      "source": [
        "! git clone https://github.com/ms624atyale/NLP_PictureBook_2025  #Make copy of the whole repository of a github account."
      ]
    },
    {
      "cell_type": "markdown",
      "source": [
        "##<font color = 'red'> 🆘 **ALERT**\n",
        "## <font color = 'red'> 🆘 **Important & Useful!**\n",
        "\n",
        "## ⤵️ In order to avoid setting a new repository being created as a subdirectory of the old one\n",
        "\n",
        "### <font color = 'blue'> <Python code>\n",
        "### <font color = 'blue'> %cd /content  # Moves to the default root directory in Google Colab\n",
        "\n",
        "## ⤵️ In order to delete the old directory forcefully\n",
        "\n",
        "### <font color = 'blue'> **▶️ Python code**\n",
        "### <font color = 'gray'> **! rm -rf NameofOldRepository**          \n",
        "\n",
        "### <font color = 'gray'> (e.g., **! rm -rf NLP_PictureBook_2025**)\n",
        "\n",
        "# **If this is not working out, rename the old, existing folder as <Eliminated> and drag the new repository under %content/.**\n"
      ],
      "metadata": {
        "id": "fPmvcdN0KP_0"
      }
    },
    {
      "cell_type": "markdown",
      "source": [
        "#2️⃣ 🐹🐾 **Set up the current directory**"
      ],
      "metadata": {
        "id": "7l39aMcg6QF8"
      }
    },
    {
      "cell_type": "code",
      "source": [
        "%cd /content/NLP_PictureBook_2025"
      ],
      "metadata": {
        "colab": {
          "base_uri": "https://localhost:8080/"
        },
        "id": "NyQD9Oxo7Me6",
        "outputId": "ec5bb318-cfa6-45d2-c5ac-f7f769a11796"
      },
      "execution_count": null,
      "outputs": [
        {
          "output_type": "stream",
          "name": "stdout",
          "text": [
            "/content/NLP_PictureBook_2025\n"
          ]
        }
      ]
    },
    {
      "cell_type": "markdown",
      "source": [
        "#3️⃣ 🐹🐾 **Read the txt file**"
      ],
      "metadata": {
        "id": "ugQTa2Md66W5"
      }
    },
    {
      "cell_type": "code",
      "source": [
        "# ▶️ Step 1: You need to modify this codeline 🍩🎂🍎🍏🍦\n",
        "file = open(\"/content/NLP_PictureBook_2025/Data_PG_PT/2_NurseryRyme_Body_LeslieBrooke.txt\", 'rt')\n",
        "\n",
        "txt = file.read()\n",
        "print(txt)\n",
        "file.close() #Using this close()function, you are no longer using your text file of the current workingdirectory with open()function."
      ],
      "metadata": {
        "id": "r_tn-hJp9gje",
        "collapsed": true,
        "colab": {
          "base_uri": "https://localhost:8080/"
        },
        "outputId": "0f7fd610-0375-4f33-9aa9-adee2f0d6f97"
      },
      "execution_count": null,
      "outputs": [
        {
          "output_type": "stream",
          "name": "stdout",
          "text": [
            "[Illustration]\n",
            "\n",
            "[Illustration]\n",
            "\n",
            "[Illustration]\n",
            "\n",
            "\n",
            "\n",
            "\n",
            "THE MAN IN THE MOON.\n",
            "\n",
            "\n",
            "          The Man in the Moon\n",
            "            Came tumbling down,\n",
            "          And asked his way to Norwich;\n",
            "\n",
            "[Illustration]\n",
            "\n",
            "            They told him south,\n",
            "            And he burnt his mouth\n",
            "          With eating cold pease-porridge.\n",
            "\n",
            "[Illustration]\n",
            "\n",
            "\n",
            "\n",
            "\n",
            "TO MARKET, TO MARKET.\n",
            "\n",
            "\n",
            "          To market, to market, to buy a fat Pig;\n",
            "          Home again, home again, dancing a jig.\n",
            "\n",
            "[Illustration]\n",
            "\n",
            "[Illustration]\n",
            "\n",
            "          To market, to market, to buy a fat Hog;\n",
            "            Home again, home again, jiggety-jog.\n",
            "\n",
            "[Illustration]\n",
            "\n",
            "[Illustration]\n",
            "\n",
            "\n",
            "\n",
            "\n",
            "THERE WAS A MAN.\n",
            "\n",
            "\n",
            "          There was a man, and he had nought,\n",
            "            And robbers came to rob him;\n",
            "\n",
            "[Illustration]\n",
            "\n",
            "          He crept up to the chimney-pot,\n",
            "\n",
            "[Illustration: AND THEN THEY THOUGHT THEY HAD HIM]\n",
            "\n",
            "[Illustration: BUT HE GOT DOWN ON T'OTHER SIDE]\n",
            "\n",
            "[Illustration]\n",
            "\n",
            "          And then they could not find him;\n",
            "\n",
            "[Illustration]\n",
            "\n",
            "          He ran fourteen miles in fifteen days,\n",
            "            And never looked behind him.\n",
            "\n",
            "[Illustration]\n",
            "\n",
            "\n",
            "\n",
            "\n",
            "THE LION AND THE UNICORN.\n",
            "\n",
            "\n",
            "          The Lion and the Unicorn\n",
            "            Were fighting for the Crown;\n",
            "          The Lion beat the Unicorn\n",
            "            All round about the town.\n",
            "\n",
            "[Illustration]\n",
            "\n",
            "[Illustration]\n",
            "\n",
            "          Some gave them white bread,\n",
            "            And some gave them brown;\n",
            "          Some gave them plum-cake,\n",
            "            And sent them out of town.\n",
            "\n",
            "[Illustration]\n",
            "\n",
            "\n",
            "\n",
            "\n",
            "LITTLE MISS MUFFET.\n",
            "\n",
            "\n",
            "[Illustration]\n",
            "\n",
            "          Little Miss Muffet\n",
            "            Sat on a tuffet\n",
            "          Eating of curds and whey;\n",
            "\n",
            "[Illustration]\n",
            "\n",
            "            There came a big Spider\n",
            "            And sat down beside her,\n",
            "          And frightened Miss Muffet away.\n",
            "\n",
            "[Illustration]\n",
            "\n",
            "[Illustration]\n",
            "\n",
            "[Illustration]\n",
            "\n",
            "[Illustration: ORANGES AND LEMONS]\n",
            "\n",
            "[Illustration]\n",
            "\n",
            "\n",
            "\n",
            "\n",
            "ORANGES AND LEMONS.\n",
            "\n",
            "\n",
            "          _Gay go up, and gay go down\n",
            "          To ring the bells of London Town._\n",
            "\n",
            "[Illustration]\n",
            "\n",
            "          Bull's eyes and targets,\n",
            "          Say the bells of St. Marg'ret's.\n",
            "\n",
            "          Brickbats and tiles,\n",
            "          Say the bells of St. Giles'.\n",
            "\n",
            "          Pancakes and fritters,\n",
            "          Say the bells of St. Peter's.\n",
            "\n",
            "          Two sticks and an apple,\n",
            "          Say the bells at Whitechapel.\n",
            "\n",
            "[Illustration]\n",
            "\n",
            "          Halfpence and farthings,\n",
            "          Say the bells of St. Martin's.\n",
            "\n",
            "[Illustration]\n",
            "\n",
            "          Oranges and Lemons,\n",
            "          Say the bells of St. Clement's.\n",
            "\n",
            "[Illustration]\n",
            "\n",
            "          Old Father Baldpate,\n",
            "          Say the slow bells at Aldgate.\n",
            "\n",
            "          Pokers and tongs,\n",
            "          Say the bells of St. John's.\n",
            "\n",
            "          Kettles and pans,\n",
            "          Say the bells of St. Ann's.\n",
            "\n",
            "          You owe me ten shillings,\n",
            "          Say the bells at St. Helen's.\n",
            "\n",
            "          When will you pay me?\n",
            "          Say the bells at Old Bailey.\n",
            "\n",
            "          When I grow rich,\n",
            "          Say the bells at Shoreditch.\n",
            "\n",
            "          Pray when will that be?\n",
            "          Say the bells of Stepney.\n",
            "\n",
            "[Illustration]\n",
            "\n",
            "          I am sure I don't know,\n",
            "          Says the great bell of Bow.\n",
            "\n",
            "          _Here comes a candle to light you to bed,\n",
            "          And here comes a chopper to chop off your head._\n",
            "\n",
            "[Illustration]\n",
            "\n",
            "\n",
            "\n",
            "\n",
            "GOOSEY, GOOSEY GANDER.\n",
            "\n",
            "\n",
            "          Goosey, Goosey Gander,\n",
            "          Where shall I wander?\n",
            "\n",
            "[Illustration]\n",
            "\n",
            "          Upstairs, downstairs,\n",
            "          And in my lady's chamber.\n",
            "\n",
            "[Illustration]\n",
            "\n",
            "          There I met an old man\n",
            "            That would not say his prayers:\n",
            "          I took him by the left leg,\n",
            "            And threw him downstairs.\n",
            "\n",
            "[Illustration]\n",
            "\n",
            "[Illustration]\n",
            "\n",
            "\n",
            "\n",
            "\n",
            "HUMPTY DUMPTY.\n",
            "\n",
            "          Humpty Dumpty sat on a wall;\n",
            "\n",
            "[Illustration]\n",
            "\n",
            "          Humpty Dumpty had a great fall;\n",
            "\n",
            "[Illustration]\n",
            "\n",
            "[Illustration]\n",
            "\n",
            "[Illustration]\n",
            "\n",
            "          All the King's horses and all the King's men\n",
            "          Couldn't put Humpty Dumpty together again.\n",
            "\n",
            "[Illustration]\n",
            "\n",
            "[Illustration]\n",
            "\n",
            "[Illustration]\n",
            "\n",
            "\n",
            "\n",
            "\n",
            "BAA, BAA, BLACK SHEEP.\n",
            "\n",
            "          Baa, baa, Black Sheep,\n",
            "            Have you any wool?\n",
            "          Yes, marry, have I,\n",
            "            Three bags full:\n",
            "\n",
            "[Illustration]\n",
            "\n",
            "          One for my Master,\n",
            "            And one for my Dame,\n",
            "          And one for the little boy\n",
            "            That lives in the lane!\n",
            "\n",
            "[Illustration]\n",
            "\n",
            "[Illustration: A Present from Gotham]\n",
            "\n",
            "\n",
            "\n",
            "\n",
            "THE THREE WISE MEN OF GOTHAM.\n",
            "\n",
            "          Three wise men of Gotham\n",
            "            Went to sea in a bowl:\n",
            "\n",
            "[Illustration]\n",
            "\n",
            "          If the bowl had been stronger,\n",
            "            My song would have been longer.\n",
            "\n",
            "[Illustration]\n",
            "\n",
            "[Illustration]\n",
            "\n",
            "[Illustration]@A NURSERY RHYME@LESLIE BROOKE\n"
          ]
        }
      ]
    },
    {
      "cell_type": "markdown",
      "source": [
        "#4️⃣ 🐹🐾 **Install NLTK and Download necessary models**"
      ],
      "metadata": {
        "id": "jt3svU1cp2zm"
      }
    },
    {
      "cell_type": "code",
      "source": [
        "!pip install nltk\n",
        "import nltk\n",
        "nltk.download('punkt')\n",
        "nltk.download('punkt_tab')"
      ],
      "metadata": {
        "id": "gBwuDza2-JwS",
        "collapsed": true,
        "colab": {
          "base_uri": "https://localhost:8080/"
        },
        "outputId": "d8cf21cc-1437-411f-e037-f5ff0d0baa59"
      },
      "execution_count": null,
      "outputs": [
        {
          "output_type": "stream",
          "name": "stdout",
          "text": [
            "Requirement already satisfied: nltk in /usr/local/lib/python3.11/dist-packages (3.9.1)\n",
            "Requirement already satisfied: click in /usr/local/lib/python3.11/dist-packages (from nltk) (8.1.8)\n",
            "Requirement already satisfied: joblib in /usr/local/lib/python3.11/dist-packages (from nltk) (1.5.0)\n",
            "Requirement already satisfied: regex>=2021.8.3 in /usr/local/lib/python3.11/dist-packages (from nltk) (2024.11.6)\n",
            "Requirement already satisfied: tqdm in /usr/local/lib/python3.11/dist-packages (from nltk) (4.67.1)\n"
          ]
        },
        {
          "output_type": "stream",
          "name": "stderr",
          "text": [
            "[nltk_data] Downloading package punkt to /root/nltk_data...\n",
            "[nltk_data]   Package punkt is already up-to-date!\n",
            "[nltk_data] Downloading package punkt_tab to /root/nltk_data...\n",
            "[nltk_data]   Package punkt_tab is already up-to-date!\n"
          ]
        },
        {
          "output_type": "execute_result",
          "data": {
            "text/plain": [
              "True"
            ]
          },
          "metadata": {},
          "execution_count": 15
        }
      ]
    },
    {
      "cell_type": "markdown",
      "source": [
        "# 5️⃣ 🐹🐾 **Just checking with tokenizing sentences**"
      ],
      "metadata": {
        "id": "pU7HuODPp4H9"
      }
    },
    {
      "cell_type": "code",
      "source": [
        "from nltk.tokenize import sent_tokenize\n",
        "sentence = sent_tokenize(txt)\n",
        "print('Sentence Tokenized: %s' %sentence)"
      ],
      "metadata": {
        "id": "6nya4AxT-2iR",
        "colab": {
          "base_uri": "https://localhost:8080/"
        },
        "outputId": "ca363ebe-a74a-4579-b431-72819e1cbaaf"
      },
      "execution_count": null,
      "outputs": [
        {
          "output_type": "stream",
          "name": "stdout",
          "text": [
            "Sentence Tokenized: ['[Illustration]\\n\\n\\n\\n[Illustration]\\n\\n\\n\\n    A FARMYARD TALE\\n    FOR\\n    RALPH AND BETSY\\n\\n\\n\\n[Illustration]\\n\\nWhat a funny sight it is to see a brood of ducklings with a hen!', \"--Listen to the story of Jemima Puddle-duck, who was annoyed because the\\nfarmer's wife would not let her hatch her own eggs.\", '[Illustration]\\n\\nHer sister-in-law, Mrs. Rebeccah Puddle-duck, was perfectly willing to\\nleave the hatching to some one else--\"I have not the patience to sit on a\\nnest for twenty-eight days; and no more have you, Jemima.', 'You would let\\nthem go cold; you know you would!\"', '\"I wish to hatch my own eggs; I will hatch them all by myself,\" quacked\\nJemima Puddle-duck.', '[Illustration]\\n\\nShe tried to hide her eggs; but they were always found and carried off.', 'Jemima Puddle-duck became quite desperate.', 'She determined to make a nest\\nright away from the farm.', '[Illustration]\\n\\nShe set off on a fine spring afternoon along the cart-road that leads over\\nthe hill.', 'She was wearing a shawl and a poke bonnet.', '[Illustration]\\n\\nWhen she reached the top of the hill, she saw a wood in the distance.', 'She thought that it looked a safe quiet spot.', '[Illustration]\\n\\nJemima Puddle-duck was not much in the habit of flying.', 'She ran downhill a\\nfew yards flapping her shawl, and then she jumped off into the air.', '[Illustration]\\n\\nShe flew beautifully when she had got a good start.', 'She skimmed along over the tree-tops until she saw an open place in the\\nmiddle of the wood, where the trees and brushwood had been cleared.', '[Illustration]\\n\\nJemima alighted rather heavily, and began to waddle about in search of a\\nconvenient dry nesting-place.', 'She rather fancied a tree-stump amongst some\\ntall fox-gloves.', 'But--seated upon the stump, she was startled to find an elegantly dressed\\ngentleman reading a newspaper.', 'He had black prick ears and sandy coloured whiskers.', '\"Quack?\"', 'said Jemima Puddle-duck, with her head and her bonnet on one\\nside--\"Quack?\"', '[Illustration]\\n\\nThe gentleman raised his eyes above his newspaper and looked curiously at\\nJemima--\\n\\n\"Madam, have you lost your way?\"', 'said he.', 'He had a long bushy tail which\\nhe was sitting upon, as the stump was somewhat damp.', 'Jemima thought him mighty civil and handsome.', 'She explained that she had\\nnot lost her way, but that she was trying to find a convenient dry\\nnesting-place.', '[Illustration]\\n\\n\"Ah!', 'is that so?', 'indeed!\"', 'said the gentleman with sandy whiskers, looking\\ncuriously at Jemima.', 'He folded up the newspaper, and put it in his\\ncoat-tail pocket.', 'Jemima complained of the superfluous hen.', '\"Indeed!', 'how interesting!', 'I wish I could meet with that fowl.', 'I would\\nteach it to mind its own business!\"', '[Illustration]\\n\\n\"But as to a nest--there is no difficulty: I have a sackful of feathers in\\nmy wood-shed.', \"No, my dear madam, you will be in nobody's way.\", 'You may sit\\nthere as long as you like,\" said the bushy long-tailed gentleman.', 'He led the way to a very retired, dismal-looking house amongst the\\nfox-gloves.', 'It was built of faggots and turf, and there were two broken pails, one on\\ntop of another, by way of a chimney.', '[Illustration]\\n\\n\"This is my summer residence; you would not find my earth--my winter\\nhouse--so convenient,\" said the hospitable gentleman.', 'There was a tumble-down shed at the back of the house, made of old\\nsoap-boxes.', 'The gentleman opened the door, and showed Jemima in.', '[Illustration]\\n\\nThe shed was almost quite full of feathers--it was almost suffocating; but\\nit was comfortable and very soft.', 'Jemima Puddle-duck was rather surprised to find such a vast quantity of\\nfeathers.', 'But it was very comfortable; and she made a nest without any\\ntrouble at all.', '[Illustration]\\n\\nWhen she came out, the sandy whiskered gentleman was sitting on a log\\nreading the newspaper--at least he had it spread out, but he was looking\\nover the top of it.', 'He was so polite, that he seemed almost sorry to let Jemima go home for\\nthe night.', 'He promised to take great care of her nest until she came back\\nagain next day.', 'He said he loved eggs and ducklings; he should be proud to see a fine\\nnestful in his wood-shed.', '[Illustration]\\n\\nJemima Puddle-duck came every afternoon; she laid nine eggs in the nest.', 'They were greeny white and very large.', 'The foxy gentleman admired them\\nimmensely.', 'He used to turn them over and count them when Jemima was not\\nthere.', 'At last Jemima told him that she intended to begin to sit next day--\"and I\\nwill bring a bag of corn with me, so that I need never leave my nest until\\nthe eggs are hatched.', 'They might catch cold,\" said the conscientious\\nJemima.', '[Illustration]\\n\\n\"Madam, I beg you not to trouble yourself with a bag; I will provide oats.', 'But before you commence your tedious sitting, I intend to give you a\\ntreat.', 'Let us have a dinner-party all to ourselves!', '\"May I ask you to bring up some herbs from the farm-garden to make a\\nsavoury omelette?', 'Sage and thyme, and mint and two onions, and some\\nparsley.', 'I will provide lard for the stuff--lard for the omelette,\" said\\nthe hospitable gentleman with sandy whiskers.', '[Illustration]\\n\\nJemima Puddle-duck was a simpleton: not even the mention of sage and\\nonions made her suspicious.', 'She went round the farm-garden, nibbling off snippets of all the different\\nsorts of herbs that are used for stuffing roast duck.', '[Illustration]\\n\\nAnd she waddled into the kitchen, and got two onions out of a basket.', 'The collie-dog Kep met her coming out, \"What are you doing with those\\nonions?', 'Where do you go every afternoon by yourself, Jemima Puddle-duck?\"', 'Jemima was rather in awe of the collie; she told him the whole story.', 'The collie listened, with his wise head on one side; he grinned when she\\ndescribed the polite gentleman with sandy whiskers.', '[Illustration]\\n\\nHe asked several questions about the wood, and about the exact position of\\nthe house and shed.', 'Then he went out, and trotted down the village.', 'He went to look for two\\nfox-hound puppies who were out at walk with the butcher.', '[Illustration]\\n\\nJemima Puddle-duck went up the cart-road for the last time, on a sunny\\nafternoon.', 'She was rather burdened with bunches of herbs and two onions in\\na bag.', 'She flew over the wood, and alighted opposite the house of the bushy\\nlong-tailed gentleman.', '[Illustration]\\n\\nHe was sitting on a log; he sniffed the air, and kept glancing uneasily\\nround the wood.', 'When Jemima alighted he quite jumped.', '\"Come into the house as soon as you have looked at your eggs.', 'Give me the\\nherbs for the omelette.', 'Be sharp!\"', 'He was rather abrupt.', 'Jemima Puddle-duck had never heard him speak like\\nthat.', 'She felt surprised, and uncomfortable.', '[Illustration]\\n\\nWhile she was inside she heard pattering feet round the back of the shed.', 'Some one with a black nose sniffed at the bottom of the door, and then\\nlocked it.', 'Jemima became much alarmed.', '[Illustration]\\n\\nA moment afterwards there were most awful noises--barking, baying, growls\\nand howls, squealing and groans.', 'And nothing more was ever seen of that foxy-whiskered gentleman.', 'Presently Kep opened the door of the shed, and let out Jemima Puddle-duck.', '[Illustration]\\n\\nUnfortunately the puppies rushed in and gobbled up all the eggs before he\\ncould stop them.', 'He had a bite on his ear and both the puppies were limping.', '[Illustration]\\n\\nJemima Puddle-duck was escorted home in tears on account of those eggs.', '[Illustration]\\n\\nShe laid some more in June, and she was permitted to keep them herself:\\nbut only four of them hatched.', 'Jemima Puddle-duck said that it was because of her nerves; but she had\\nalways been a bad sitter.', '@THE TALE OF JEMIMA PUDDLE-DUCK@BEATRIX POTTER']\n"
          ]
        }
      ]
    },
    {
      "cell_type": "markdown",
      "source": [
        "# 6️⃣ 📍📍 **Apply a series of functions for replacement**"
      ],
      "metadata": {
        "id": "s9pIkCMfI-oc"
      }
    },
    {
      "cell_type": "code",
      "source": [
        "import re\n",
        "\n",
        "# ▶️ Step 1: Read file to change path as needed 🍩🎂🍎🍏🍦\n",
        "with open(\"/content/NLP_PictureBook_2025/Data_PG_PT/2_NurseryRyme_Body_LeslieBrooke.txt\", 'rt') as fl:\n",
        "    raw_text = fl.read()\n",
        "\n",
        "# ▶️ STEP 2: Clean the text\n",
        "clean_text = (\n",
        "    raw_text\n",
        "    .lower()\n",
        "    .replace(\"\\n\", \" \")\n",
        "    .replace(\"“\", \"\")\n",
        "    .replace(\"”\", \"\")\n",
        "    .replace(\"\\\"\", \"\")\n",
        "    .replace(\"_\", \"\")\n",
        "    .replace(\"[illustration]\", \"\")\n",
        "    .replace(\"*\", \"\")\n",
        "    .replace(\".\", \"\")\n",
        "    .replace(\",\", \"\")\n",
        "    .replace(\"(\", \"\")\n",
        "    .replace(\")\", \"\")\n",
        ")\n",
        "\n",
        "# ▶️ STEP 3: Save the cleaned content to a NEW file 🍩🎂🍎🍏🍦\n",
        "output_path = \"/content/NLP_PictureBook_2025/Data_PG_Clean/2_NurseryRyme_Body_CLEANED.txt\"\n",
        "with open(output_path, 'w') as cf:\n",
        "    cf.write(clean_text) #Get content named 'clean_text' to the new empty file\n",
        "\n",
        "# ▶️ Optional: Print to verify\n",
        "print(\"✅ Cleaned text saved to:\", output_path)"
      ],
      "metadata": {
        "colab": {
          "base_uri": "https://localhost:8080/"
        },
        "id": "9l6dyLoYImhx",
        "outputId": "5f127a94-22e3-4916-fb25-1649698c916f"
      },
      "execution_count": null,
      "outputs": [
        {
          "output_type": "stream",
          "name": "stdout",
          "text": [
            "✅ Cleaned text saved to: /content/NLP_PictureBook_2025/Data_PG_Clean/2_NurseryRyme_Body_CLEANED.txt\n"
          ]
        }
      ]
    },
    {
      "cell_type": "markdown",
      "source": [
        "# 7️⃣ 🐹🐾 **Just cheking the result file with cleaning applied**\n",
        "- **Sentence Tokenization**\n",
        "- **Tokenizing Words with Regular Tokenizer**\n",
        "- **Get tokenized words put in sequence**"
      ],
      "metadata": {
        "id": "SACJ4rQ5qPo-"
      }
    },
    {
      "cell_type": "code",
      "source": [
        "from nltk.tokenize import sent_tokenize\n",
        "\n",
        "sentence = sent_tokenize(clean_text)\n",
        "print('Sentence Tokenized: %s' %sentence)\n",
        "\n",
        "from nltk.tokenize import RegexpTokenizer #RegexpTokenizer as a class\n",
        "import re\n",
        "\n",
        "tok = RegexpTokenizer(\"[\\w]+\") # Alert: You cannot use RegexpTokenizer() without argument. You need a regexpression formula.\n",
        "\n",
        "tk = tok.tokenize(clean_text)\n",
        "print('Tokenizing Words with RegexpTokenizer: %s' %tk)\n",
        "\n",
        "print(' '.join(tk)) #small characters\n",
        "#alternatively, use the codeline of ' '.join(tkn)"
      ],
      "metadata": {
        "colab": {
          "base_uri": "https://localhost:8080/"
        },
        "id": "ctwXWSdaKxBf",
        "outputId": "909fa469-a3b1-475b-9e0a-223a163a4930"
      },
      "execution_count": null,
      "outputs": [
        {
          "output_type": "stream",
          "name": "stdout",
          "text": [
            "Sentence Tokenized: ['text@title@author   once upon a time there were three little kittens and their names were mittens tom kitten and moppet  they had dear little fur coats of their own; and they tumbled about the doorstep and played in the dust  but one day their mother--mrs tabitha twitchit--expected friends to tea; so she fetched the kittens indoors to wash and dress them before the fine company arrived      first she scrubbed their faces this one is moppet  then she brushed their fur this one is mittens      then she combed their tails and whiskers this is tom kitten  tom was very naughty and he scratched  mrs tabitha dressed moppet and mittens in clean pinafores and tuckers; and then she took all sorts of elegant uncomfortable clothes out of a chest of drawers in order to dress up her son thomas      tom kitten was very fat and he had grown; several buttons burst off his mother sewed them on again  when the three kittens were ready mrs tabitha unwisely turned them out into the garden to be out of the way while she made hot buttered toast  now keep your frocks clean children!', 'you must walk on your hind legs keep away from the dirty ash-pit and from sally henny penny and from the pig-stye and the puddle-ducks      moppet and mittens walked down the garden path unsteadily presently they trod upon their pinafores and fell on their noses  when they stood up there were several green smears!', \"let us climb up the rockery and sit on the garden wall said moppet  they turned their pinafores back to front and went up with a skip and a jump; moppet's white tucker fell down into the road      tom kitten was quite unable to jump when walking upon his hind legs in trousers he came up the rockery by degrees breaking the ferns and shedding buttons right and left  he was all in pieces when he reached the top of the wall  moppet and mittens tried to pull him together; his hat fell off and the rest of his buttons burst      while they were in difficulties there was a pit pat paddle pat!\", 'and the three puddle-ducks came along the hard high road marching one behind the other and doing the goose step--pit pat paddle pat!', 'pit pat waddle pat!', \"they stopped and stood in a row and stared up at the kittens they had very small eyes and looked surprised      then the two duck-birds rebeccah and jemima puddle-duck picked up the hat and tucker and put them on  mittens laughed so that she fell off the wall moppet and tom descended after her; the pinafores and all the rest of tom's clothes came off on the way down  come!\", 'mr drake puddle-duck said moppet--come and help us to dress him!', 'come and button up tom!', 'mr drake puddle-duck advanced in a slow sideways manner and picked up the various articles  but he put them on himself!', \"they fitted him even worse than tom kitten  it's a very fine morning!\", 'said mr drake puddle-duck      and he and jemima and rebeccah puddle-duck set off up the road keeping step--pit pat paddle pat!', 'pit pat waddle pat!', 'then tabitha twitchit came down the garden and found her kittens on the wall with no clothes on      she pulled them off the wall smacked them and took them back to the house  my friends will arrive in a minute and you are not fit to be seen; i am affronted said mrs tabitha twitchit  she sent them upstairs; and i am sorry to say she told her friends that they were in bed with the measles; which was not true      quite the contrary; they were not in bed: not in the least  somehow there were very extraordinary noises over-head which disturbed the dignity and repose of the tea party  and i think that some day i shall have to make another larger book to tell you more about tom kitten!', 'as for the puddle-ducks--they went into a pond  the clothes all came off directly because there were no buttons      and mr drake puddle-duck and jemima and rebeccah have been looking for them ever since@the tale of tom kitten@beatrix potter']\n",
            "Tokenizing Words with RegexpTokenizer: ['text', 'title', 'author', 'once', 'upon', 'a', 'time', 'there', 'were', 'three', 'little', 'kittens', 'and', 'their', 'names', 'were', 'mittens', 'tom', 'kitten', 'and', 'moppet', 'they', 'had', 'dear', 'little', 'fur', 'coats', 'of', 'their', 'own', 'and', 'they', 'tumbled', 'about', 'the', 'doorstep', 'and', 'played', 'in', 'the', 'dust', 'but', 'one', 'day', 'their', 'mother', 'mrs', 'tabitha', 'twitchit', 'expected', 'friends', 'to', 'tea', 'so', 'she', 'fetched', 'the', 'kittens', 'indoors', 'to', 'wash', 'and', 'dress', 'them', 'before', 'the', 'fine', 'company', 'arrived', 'first', 'she', 'scrubbed', 'their', 'faces', 'this', 'one', 'is', 'moppet', 'then', 'she', 'brushed', 'their', 'fur', 'this', 'one', 'is', 'mittens', 'then', 'she', 'combed', 'their', 'tails', 'and', 'whiskers', 'this', 'is', 'tom', 'kitten', 'tom', 'was', 'very', 'naughty', 'and', 'he', 'scratched', 'mrs', 'tabitha', 'dressed', 'moppet', 'and', 'mittens', 'in', 'clean', 'pinafores', 'and', 'tuckers', 'and', 'then', 'she', 'took', 'all', 'sorts', 'of', 'elegant', 'uncomfortable', 'clothes', 'out', 'of', 'a', 'chest', 'of', 'drawers', 'in', 'order', 'to', 'dress', 'up', 'her', 'son', 'thomas', 'tom', 'kitten', 'was', 'very', 'fat', 'and', 'he', 'had', 'grown', 'several', 'buttons', 'burst', 'off', 'his', 'mother', 'sewed', 'them', 'on', 'again', 'when', 'the', 'three', 'kittens', 'were', 'ready', 'mrs', 'tabitha', 'unwisely', 'turned', 'them', 'out', 'into', 'the', 'garden', 'to', 'be', 'out', 'of', 'the', 'way', 'while', 'she', 'made', 'hot', 'buttered', 'toast', 'now', 'keep', 'your', 'frocks', 'clean', 'children', 'you', 'must', 'walk', 'on', 'your', 'hind', 'legs', 'keep', 'away', 'from', 'the', 'dirty', 'ash', 'pit', 'and', 'from', 'sally', 'henny', 'penny', 'and', 'from', 'the', 'pig', 'stye', 'and', 'the', 'puddle', 'ducks', 'moppet', 'and', 'mittens', 'walked', 'down', 'the', 'garden', 'path', 'unsteadily', 'presently', 'they', 'trod', 'upon', 'their', 'pinafores', 'and', 'fell', 'on', 'their', 'noses', 'when', 'they', 'stood', 'up', 'there', 'were', 'several', 'green', 'smears', 'let', 'us', 'climb', 'up', 'the', 'rockery', 'and', 'sit', 'on', 'the', 'garden', 'wall', 'said', 'moppet', 'they', 'turned', 'their', 'pinafores', 'back', 'to', 'front', 'and', 'went', 'up', 'with', 'a', 'skip', 'and', 'a', 'jump', 'moppet', 's', 'white', 'tucker', 'fell', 'down', 'into', 'the', 'road', 'tom', 'kitten', 'was', 'quite', 'unable', 'to', 'jump', 'when', 'walking', 'upon', 'his', 'hind', 'legs', 'in', 'trousers', 'he', 'came', 'up', 'the', 'rockery', 'by', 'degrees', 'breaking', 'the', 'ferns', 'and', 'shedding', 'buttons', 'right', 'and', 'left', 'he', 'was', 'all', 'in', 'pieces', 'when', 'he', 'reached', 'the', 'top', 'of', 'the', 'wall', 'moppet', 'and', 'mittens', 'tried', 'to', 'pull', 'him', 'together', 'his', 'hat', 'fell', 'off', 'and', 'the', 'rest', 'of', 'his', 'buttons', 'burst', 'while', 'they', 'were', 'in', 'difficulties', 'there', 'was', 'a', 'pit', 'pat', 'paddle', 'pat', 'and', 'the', 'three', 'puddle', 'ducks', 'came', 'along', 'the', 'hard', 'high', 'road', 'marching', 'one', 'behind', 'the', 'other', 'and', 'doing', 'the', 'goose', 'step', 'pit', 'pat', 'paddle', 'pat', 'pit', 'pat', 'waddle', 'pat', 'they', 'stopped', 'and', 'stood', 'in', 'a', 'row', 'and', 'stared', 'up', 'at', 'the', 'kittens', 'they', 'had', 'very', 'small', 'eyes', 'and', 'looked', 'surprised', 'then', 'the', 'two', 'duck', 'birds', 'rebeccah', 'and', 'jemima', 'puddle', 'duck', 'picked', 'up', 'the', 'hat', 'and', 'tucker', 'and', 'put', 'them', 'on', 'mittens', 'laughed', 'so', 'that', 'she', 'fell', 'off', 'the', 'wall', 'moppet', 'and', 'tom', 'descended', 'after', 'her', 'the', 'pinafores', 'and', 'all', 'the', 'rest', 'of', 'tom', 's', 'clothes', 'came', 'off', 'on', 'the', 'way', 'down', 'come', 'mr', 'drake', 'puddle', 'duck', 'said', 'moppet', 'come', 'and', 'help', 'us', 'to', 'dress', 'him', 'come', 'and', 'button', 'up', 'tom', 'mr', 'drake', 'puddle', 'duck', 'advanced', 'in', 'a', 'slow', 'sideways', 'manner', 'and', 'picked', 'up', 'the', 'various', 'articles', 'but', 'he', 'put', 'them', 'on', 'himself', 'they', 'fitted', 'him', 'even', 'worse', 'than', 'tom', 'kitten', 'it', 's', 'a', 'very', 'fine', 'morning', 'said', 'mr', 'drake', 'puddle', 'duck', 'and', 'he', 'and', 'jemima', 'and', 'rebeccah', 'puddle', 'duck', 'set', 'off', 'up', 'the', 'road', 'keeping', 'step', 'pit', 'pat', 'paddle', 'pat', 'pit', 'pat', 'waddle', 'pat', 'then', 'tabitha', 'twitchit', 'came', 'down', 'the', 'garden', 'and', 'found', 'her', 'kittens', 'on', 'the', 'wall', 'with', 'no', 'clothes', 'on', 'she', 'pulled', 'them', 'off', 'the', 'wall', 'smacked', 'them', 'and', 'took', 'them', 'back', 'to', 'the', 'house', 'my', 'friends', 'will', 'arrive', 'in', 'a', 'minute', 'and', 'you', 'are', 'not', 'fit', 'to', 'be', 'seen', 'i', 'am', 'affronted', 'said', 'mrs', 'tabitha', 'twitchit', 'she', 'sent', 'them', 'upstairs', 'and', 'i', 'am', 'sorry', 'to', 'say', 'she', 'told', 'her', 'friends', 'that', 'they', 'were', 'in', 'bed', 'with', 'the', 'measles', 'which', 'was', 'not', 'true', 'quite', 'the', 'contrary', 'they', 'were', 'not', 'in', 'bed', 'not', 'in', 'the', 'least', 'somehow', 'there', 'were', 'very', 'extraordinary', 'noises', 'over', 'head', 'which', 'disturbed', 'the', 'dignity', 'and', 'repose', 'of', 'the', 'tea', 'party', 'and', 'i', 'think', 'that', 'some', 'day', 'i', 'shall', 'have', 'to', 'make', 'another', 'larger', 'book', 'to', 'tell', 'you', 'more', 'about', 'tom', 'kitten', 'as', 'for', 'the', 'puddle', 'ducks', 'they', 'went', 'into', 'a', 'pond', 'the', 'clothes', 'all', 'came', 'off', 'directly', 'because', 'there', 'were', 'no', 'buttons', 'and', 'mr', 'drake', 'puddle', 'duck', 'and', 'jemima', 'and', 'rebeccah', 'have', 'been', 'looking', 'for', 'them', 'ever', 'since', 'the', 'tale', 'of', 'tom', 'kitten', 'beatrix', 'potter']\n",
            "text title author once upon a time there were three little kittens and their names were mittens tom kitten and moppet they had dear little fur coats of their own and they tumbled about the doorstep and played in the dust but one day their mother mrs tabitha twitchit expected friends to tea so she fetched the kittens indoors to wash and dress them before the fine company arrived first she scrubbed their faces this one is moppet then she brushed their fur this one is mittens then she combed their tails and whiskers this is tom kitten tom was very naughty and he scratched mrs tabitha dressed moppet and mittens in clean pinafores and tuckers and then she took all sorts of elegant uncomfortable clothes out of a chest of drawers in order to dress up her son thomas tom kitten was very fat and he had grown several buttons burst off his mother sewed them on again when the three kittens were ready mrs tabitha unwisely turned them out into the garden to be out of the way while she made hot buttered toast now keep your frocks clean children you must walk on your hind legs keep away from the dirty ash pit and from sally henny penny and from the pig stye and the puddle ducks moppet and mittens walked down the garden path unsteadily presently they trod upon their pinafores and fell on their noses when they stood up there were several green smears let us climb up the rockery and sit on the garden wall said moppet they turned their pinafores back to front and went up with a skip and a jump moppet s white tucker fell down into the road tom kitten was quite unable to jump when walking upon his hind legs in trousers he came up the rockery by degrees breaking the ferns and shedding buttons right and left he was all in pieces when he reached the top of the wall moppet and mittens tried to pull him together his hat fell off and the rest of his buttons burst while they were in difficulties there was a pit pat paddle pat and the three puddle ducks came along the hard high road marching one behind the other and doing the goose step pit pat paddle pat pit pat waddle pat they stopped and stood in a row and stared up at the kittens they had very small eyes and looked surprised then the two duck birds rebeccah and jemima puddle duck picked up the hat and tucker and put them on mittens laughed so that she fell off the wall moppet and tom descended after her the pinafores and all the rest of tom s clothes came off on the way down come mr drake puddle duck said moppet come and help us to dress him come and button up tom mr drake puddle duck advanced in a slow sideways manner and picked up the various articles but he put them on himself they fitted him even worse than tom kitten it s a very fine morning said mr drake puddle duck and he and jemima and rebeccah puddle duck set off up the road keeping step pit pat paddle pat pit pat waddle pat then tabitha twitchit came down the garden and found her kittens on the wall with no clothes on she pulled them off the wall smacked them and took them back to the house my friends will arrive in a minute and you are not fit to be seen i am affronted said mrs tabitha twitchit she sent them upstairs and i am sorry to say she told her friends that they were in bed with the measles which was not true quite the contrary they were not in bed not in the least somehow there were very extraordinary noises over head which disturbed the dignity and repose of the tea party and i think that some day i shall have to make another larger book to tell you more about tom kitten as for the puddle ducks they went into a pond the clothes all came off directly because there were no buttons and mr drake puddle duck and jemima and rebeccah have been looking for them ever since the tale of tom kitten beatrix potter\n"
          ]
        }
      ]
    },
    {
      "cell_type": "markdown",
      "source": [
        "#⚠️ <font color = 'green'>**This is the end of the Script! You did a good job!** **"
      ],
      "metadata": {
        "id": "DUcWWwfGCGf7"
      }
    }
  ]
}